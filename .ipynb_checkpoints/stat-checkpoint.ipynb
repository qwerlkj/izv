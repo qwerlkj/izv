{
 "cells": [
  {
   "cell_type": "code",
   "execution_count": null,
   "id": "358109fe",
   "metadata": {},
   "outputs": [],
   "source": [
    "import pandas as pd\n",
    "import matplotlib.pyplot as plt\n",
    "import numpy as np\n",
    "from scipy.stats import chisquare, mannwhitneyu"
   ]
  },
  {
   "cell_type": "code",
   "execution_count": null,
   "id": "ce7e31cc",
   "metadata": {},
   "outputs": [],
   "source": [
    "data = pd.read_pickle(\"accidents.pkl.gz\")"
   ]
  },
  {
   "cell_type": "markdown",
   "id": "685527f7",
   "metadata": {},
   "source": [
    "# Hypotéza 1:\n",
    "**Na silnicích první třídy se při nehodách umíralo se stejnou pravděpodobností jako dálnicích.**\n",
    "\n",
    "K ověření hypotézy využijte $𝜒^2$ test s tím, že také určíte, jestli nehody na silnicích 1. třídy\n",
    "vedly častěji či méně často k fatální nehodě. V tom vám může pomoct “expected” výstup $𝜒^2$\n",
    "testu. \n",
    "Nerozlišujte počet následků, ale pouze nehody, kde došlo k jednomu a více úmrtí\n",
    "(p13a > 0)."
   ]
  },
  {
   "cell_type": "markdown",
   "id": "160f4105",
   "metadata": {},
   "source": [
    "Najskôr si načítame potrebné data, druh cesty (dialnica, cesta 1. triedy) a počet usmrtených osob. Potom následne spočítame počet usmrtených osôb pri daných druhoch ciest."
   ]
  },
  {
   "cell_type": "code",
   "execution_count": null,
   "id": "dac33359",
   "metadata": {},
   "outputs": [],
   "source": [
    "df = data[(data['p36'] == 0) | (data['p36'] == 1)].copy()\n",
    "df2 = df[['p36', 'p13a']].copy()\n",
    "df2.loc[df2['p36'] == 0, 'p36'] = 'dialnica';\n",
    "df2.loc[df2['p36'] == 1, 'p36'] = 'prva_trieda';\n",
    "df2['p36'] = df2['p36'].astype('category');\n",
    "\n",
    "df2['count'] = np.zeros(df2['p36'].size).astype('int')\n",
    "counts = df2.groupby(['p36','p13a']).count()\n",
    "#counts = counts.set_index(['p36', 'p13a'])\n",
    "bez_umrti = counts.reset_index()\n",
    "bez_umrti = bez_umrti[bez_umrti['p13a'] > 0].set_index(['p36', 'p13a'])\n",
    "bez_umrti"
   ]
  },
  {
   "cell_type": "markdown",
   "id": "3aa4db92",
   "metadata": {},
   "source": [
    "Teraz rozdelíme dataframy na pre dialnicu a prvu triedu."
   ]
  },
  {
   "cell_type": "code",
   "execution_count": null,
   "id": "2db367bf",
   "metadata": {},
   "outputs": [],
   "source": [
    "dialnica = bez_umrti.loc[\"dialnica\", 'count'].reset_index()\n",
    "prva_trieda = bez_umrti.loc[\"prva_trieda\", 'count'].reset_index()\n",
    "\n",
    "prva_trieda"
   ]
  },
  {
   "cell_type": "markdown",
   "id": "75bc4589",
   "metadata": {},
   "source": [
    "Vypočítame relatívne hodnoty."
   ]
  },
  {
   "cell_type": "code",
   "execution_count": null,
   "id": "911fedae",
   "metadata": {},
   "outputs": [],
   "source": [
    "ob = prva_trieda['count'] / prva_trieda['count'].sum();\n",
    "print(ob)\n",
    "ex = dialnica['count'] / dialnica['count'].sum();\n",
    "print(ex)\n"
   ]
  },
  {
   "cell_type": "markdown",
   "id": "bfa9ddbd",
   "metadata": {},
   "source": [
    "Prevedieme chi-square test"
   ]
  },
  {
   "cell_type": "code",
   "execution_count": null,
   "id": "1a0d0d2f",
   "metadata": {},
   "outputs": [],
   "source": [
    "test = chisquare(ob, ex)\n",
    "test"
   ]
  },
  {
   "cell_type": "markdown",
   "id": "ab459c4c",
   "metadata": {},
   "source": [
    "Keďže p-hodnota je vyšia ako 0.05, tak hypotézu 1 nezamietame."
   ]
  },
  {
   "cell_type": "markdown",
   "id": "368737e3",
   "metadata": {},
   "source": [
    "# Hypotéza 2:\n",
    "**Při nehodách vozidel značky Škoda je škoda na vozidle nižší než při nehodách vozidel Audi**\n",
    "\n",
    "Využijte vhodný test a určete, zda je škoda na vozidlech vyšší či nižší a zda je tato vlastnost\n",
    "na požadované hladině významnosti."
   ]
  },
  {
   "cell_type": "markdown",
   "id": "bfdcfac5",
   "metadata": {},
   "source": [
    "Na riešenie tejto hypotézy použijeme Mann–Whitney U test, pretože máme nezávislé premenné \n",
    "Z dát získame autá značky SKODA (39) a autá značky AUDI (2)"
   ]
  },
  {
   "cell_type": "code",
   "execution_count": null,
   "id": "3723a686",
   "metadata": {},
   "outputs": [],
   "source": [
    "auta = data[(data['p45a'] == 39) | ( data['p45a'] == 2)].copy()\n",
    "auta = auta[['p45a', 'p53']].copy()\n",
    "\n",
    "auta.loc[auta['p45a'] == 39, 'p45a'] = 'SKODA'\n",
    "auta.loc[auta['p45a'] == 2, 'p45a'] = 'AUDI'\n",
    "auta['p45a'].astype('category')\n",
    "#auta['count'] = np.ones(auta['p45a'].size).astype('int')\n",
    "auta.set_index('p45a', inplace=True)\n",
    "auta"
   ]
  },
  {
   "cell_type": "markdown",
   "id": "534c1fe2",
   "metadata": {},
   "source": [
    "Rozdelíme si autá a škody do zvlášt premenných"
   ]
  },
  {
   "cell_type": "code",
   "execution_count": null,
   "id": "a5eaf32d",
   "metadata": {},
   "outputs": [],
   "source": [
    "a_skoda = auta.loc['SKODA']\n",
    "print(a_skoda)\n",
    "a_audi = auta.loc['AUDI']\n",
    "print(a_audi)\n",
    "\n",
    "plt.hist(a_skoda['p53'], bins=50)\n",
    "plt.hist(a_audi['p53'], bins=50)"
   ]
  },
  {
   "cell_type": "markdown",
   "id": "fa22fc10",
   "metadata": {},
   "source": [
    "Spravíme test"
   ]
  },
  {
   "cell_type": "code",
   "execution_count": null,
   "id": "142e1346",
   "metadata": {},
   "outputs": [],
   "source": [
    "mannwhitneyu(a_skoda, a_audi)"
   ]
  },
  {
   "cell_type": "markdown",
   "id": "f745b685",
   "metadata": {},
   "source": [
    "Na základe testu a p-hodnoty zamietame hypotézu 2."
   ]
  }
 ],
 "metadata": {
  "kernelspec": {
   "display_name": "Python 3 (ipykernel)",
   "language": "python",
   "name": "python3"
  },
  "language_info": {
   "codemirror_mode": {
    "name": "ipython",
    "version": 3
   },
   "file_extension": ".py",
   "mimetype": "text/x-python",
   "name": "python",
   "nbconvert_exporter": "python",
   "pygments_lexer": "ipython3",
   "version": "3.8.7"
  }
 },
 "nbformat": 4,
 "nbformat_minor": 5
}
